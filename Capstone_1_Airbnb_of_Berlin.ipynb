{
  "nbformat": 4,
  "nbformat_minor": 0,
  "metadata": {
    "colab": {
      "name": "Capstone 1-Airbnb of Berlin.ipynb",
      "provenance": [],
      "collapsed_sections": []
    },
    "kernelspec": {
      "name": "python3",
      "display_name": "Python 3"
    }
  },
  "cells": [
    {
      "cell_type": "markdown",
      "metadata": {
        "id": "3KRY7NrvtxWz"
      },
      "source": [
        "<h1><center>\n",
        "Capstone 1 Project Airbnb Berlin:\n",
        "</center> </h>\n",
        "\n",
        "<h2><center>\n",
        "Hypothesis\n",
        "</h>\n",
        "\n",
        "<h3>\n",
        "\n",
        "The hypothesis for this is that summer time travel will be the most expensive time to travel to Berlin each year based on 2 datasets from kaggle concerning the Airbnb of Berlin. The hypothesis is, like many destinations summer will be the most expensive time to travel. This project will also show the most busy time of year to travel so as give a recommendation on when it is the most crowded.\n",
        "Although there are multiple variables in this dataset, the focus will be strictly on:\n",
        "- 'entire home - 1 bedroom' \n",
        "- 'entire home - 3 or more bedroom'\n",
        "\n",
        "The testing will be this by labeling the seasons as follows: \n",
        "*   dates between 2/28 - 5/31 will be spring\n",
        "*   dates between 6/01 - 8/31 will be summer\n",
        "*   dates between 9/01 - 11/30 will be fall\n",
        "*   dates between 12/01 - 2/27 will be winter\n",
        "\n",
        "</center></h3>\n",
        "\n"
      ]
    },
    {
      "cell_type": "code",
      "metadata": {
        "id": "gAGXN8SxSSNY",
        "outputId": "207f3944-bbb1-4cbd-c491-3e4fb7a3a15f",
        "colab": {
          "base_uri": "https://localhost:8080/",
          "height": 73
        }
      },
      "source": [
        "%matplotlib inline\n",
        "import pandas as pd\n",
        "import requests\n",
        "from io import StringIO\n",
        "import numpy as np\n",
        "import random\n",
        "import seaborn as sns\n",
        "from matplotlib import pyplot as plt\n",
        "from scipy import stats\n",
        "import datetime\n",
        "import matplotlib.dates as mdates\n",
        "from decimal import Decimal\n",
        "#pd.options.display.float_format = '{:,.0e}'.format\n",
        "#pd.reset_option('display.float_format')\n",
        "#pd.set_option('display.precision',3)\n",
        "from google.colab import files"
      ],
      "execution_count": null,
      "outputs": [
        {
          "output_type": "stream",
          "text": [
            "/usr/local/lib/python3.6/dist-packages/statsmodels/tools/_testing.py:19: FutureWarning: pandas.util.testing is deprecated. Use the functions in the public API at pandas.testing instead.\n",
            "  import pandas.util.testing as tm\n"
          ],
          "name": "stderr"
        }
      ]
    },
    {
      "cell_type": "markdown",
      "metadata": {
        "id": "xpPFj0z6SNuP"
      },
      "source": [
        "#Data Preparation\n",
        "Since this will only focus on one year of information, the data needs to be structure in seasons, so this will add a \"season\" column. "
      ]
    },
    {
      "cell_type": "code",
      "metadata": {
        "id": "JAqMbu3lOqT7",
        "outputId": "dc6feeea-0179-4eba-dc95-98b92d3557c8",
        "colab": {
          "base_uri": "https://localhost:8080/",
          "height": 233
        }
      },
      "source": [
        "df = pd.read_csv(\"/content/drive/My Drive/calendar_summary.csv\")\n",
        "df.head()\n",
        "\n",
        "print(df.columns)\n",
        "\n",
        "df['available'] = df['available'].astype('str')\n",
        "df.fillna('TBD', inplace=True)\n",
        "df.info()\n"
      ],
      "execution_count": null,
      "outputs": [
        {
          "output_type": "stream",
          "text": [
            "Index(['listing_id', 'date', 'available', 'price'], dtype='object')\n",
            "<class 'pandas.core.frame.DataFrame'>\n",
            "RangeIndex: 8231480 entries, 0 to 8231479\n",
            "Data columns (total 4 columns):\n",
            " #   Column      Dtype \n",
            "---  ------      ----- \n",
            " 0   listing_id  int64 \n",
            " 1   date        object\n",
            " 2   available   object\n",
            " 3   price       object\n",
            "dtypes: int64(1), object(3)\n",
            "memory usage: 251.2+ MB\n"
          ],
          "name": "stdout"
        }
      ]
    },
    {
      "cell_type": "code",
      "metadata": {
        "id": "URSzgdIfey_6"
      },
      "source": [
        "df['date'] = pd.to_datetime(df['date'])\n",
        "NaN = np.nan\n",
        "df[\"season\"] = NaN"
      ],
      "execution_count": null,
      "outputs": []
    },
    {
      "cell_type": "code",
      "metadata": {
        "id": "ZCqmwbxVl4ul",
        "outputId": "75d4ca01-afdc-495e-b090-63d87621e17c",
        "colab": {
          "base_uri": "https://localhost:8080/",
          "height": 753
        }
      },
      "source": [
        "fall = pd.date_range(start= '2018-11-07', end ='2018-12-01', freq='D')\n",
        "\n",
        "fall_start_date = '2018-11-07'\n",
        "fall_end_date = '2018-12-01'\n",
        "\n",
        "mask = (df['date'] >= fall_start_date ) & (df['date'] <= fall_end_date )\n",
        "mask = df.loc[mask]\n",
        "mask[\"season\"].fillna(\"fall\", inplace = True)\n",
        "mask.to_csv('fall.csv')\n",
        "mask.head(5)\n",
        "mask.info()\n",
        "mask['available'].value_counts()\n",
        "\n",
        "fall.astype(str).astype(float)\n",
        "fall"
      ],
      "execution_count": null,
      "outputs": [
        {
          "output_type": "stream",
          "text": [
            "/usr/local/lib/python3.6/dist-packages/pandas/core/generic.py:6245: SettingWithCopyWarning: \n",
            "A value is trying to be set on a copy of a slice from a DataFrame\n",
            "\n",
            "See the caveats in the documentation: https://pandas.pydata.org/pandas-docs/stable/user_guide/indexing.html#returning-a-view-versus-a-copy\n",
            "  self._update_inplace(new_data)\n"
          ],
          "name": "stderr"
        },
        {
          "output_type": "stream",
          "text": [
            "<class 'pandas.core.frame.DataFrame'>\n",
            "Int64Index: 563794 entries, 651 to 8231479\n",
            "Data columns (total 5 columns):\n",
            " #   Column      Non-Null Count   Dtype         \n",
            "---  ------      --------------   -----         \n",
            " 0   listing_id  563794 non-null  int64         \n",
            " 1   date        563794 non-null  datetime64[ns]\n",
            " 2   available   563794 non-null  object        \n",
            " 3   price       563794 non-null  object        \n",
            " 4   season      563794 non-null  object        \n",
            "dtypes: datetime64[ns](1), int64(1), object(3)\n",
            "memory usage: 25.8+ MB\n"
          ],
          "name": "stdout"
        },
        {
          "output_type": "error",
          "ename": "TypeError",
          "evalue": "ignored",
          "traceback": [
            "\u001b[0;31m---------------------------------------------------------------------------\u001b[0m",
            "\u001b[0;31mValueError\u001b[0m                                Traceback (most recent call last)",
            "\u001b[0;32m/usr/local/lib/python3.6/dist-packages/pandas/core/indexes/base.py\u001b[0m in \u001b[0;36mastype\u001b[0;34m(self, dtype, copy)\u001b[0m\n\u001b[1;32m    710\u001b[0m         \u001b[0;32mtry\u001b[0m\u001b[0;34m:\u001b[0m\u001b[0;34m\u001b[0m\u001b[0;34m\u001b[0m\u001b[0m\n\u001b[0;32m--> 711\u001b[0;31m             \u001b[0mcasted\u001b[0m \u001b[0;34m=\u001b[0m \u001b[0mself\u001b[0m\u001b[0;34m.\u001b[0m\u001b[0mvalues\u001b[0m\u001b[0;34m.\u001b[0m\u001b[0mastype\u001b[0m\u001b[0;34m(\u001b[0m\u001b[0mdtype\u001b[0m\u001b[0;34m,\u001b[0m \u001b[0mcopy\u001b[0m\u001b[0;34m=\u001b[0m\u001b[0mcopy\u001b[0m\u001b[0;34m)\u001b[0m\u001b[0;34m\u001b[0m\u001b[0;34m\u001b[0m\u001b[0m\n\u001b[0m\u001b[1;32m    712\u001b[0m         \u001b[0;32mexcept\u001b[0m \u001b[0;34m(\u001b[0m\u001b[0mTypeError\u001b[0m\u001b[0;34m,\u001b[0m \u001b[0mValueError\u001b[0m\u001b[0;34m)\u001b[0m\u001b[0;34m:\u001b[0m\u001b[0;34m\u001b[0m\u001b[0;34m\u001b[0m\u001b[0m\n",
            "\u001b[0;31mValueError\u001b[0m: could not convert string to float: '2018-11-07'",
            "\nDuring handling of the above exception, another exception occurred:\n",
            "\u001b[0;31mTypeError\u001b[0m                                 Traceback (most recent call last)",
            "\u001b[0;32m<ipython-input-7-c86077d0a693>\u001b[0m in \u001b[0;36m<module>\u001b[0;34m()\u001b[0m\n\u001b[1;32m     12\u001b[0m \u001b[0mmask\u001b[0m\u001b[0;34m[\u001b[0m\u001b[0;34m'available'\u001b[0m\u001b[0;34m]\u001b[0m\u001b[0;34m.\u001b[0m\u001b[0mvalue_counts\u001b[0m\u001b[0;34m(\u001b[0m\u001b[0;34m)\u001b[0m\u001b[0;34m\u001b[0m\u001b[0;34m\u001b[0m\u001b[0m\n\u001b[1;32m     13\u001b[0m \u001b[0;34m\u001b[0m\u001b[0m\n\u001b[0;32m---> 14\u001b[0;31m \u001b[0mfall\u001b[0m\u001b[0;34m.\u001b[0m\u001b[0mastype\u001b[0m\u001b[0;34m(\u001b[0m\u001b[0mstr\u001b[0m\u001b[0;34m)\u001b[0m\u001b[0;34m.\u001b[0m\u001b[0mastype\u001b[0m\u001b[0;34m(\u001b[0m\u001b[0mfloat\u001b[0m\u001b[0;34m)\u001b[0m\u001b[0;34m\u001b[0m\u001b[0;34m\u001b[0m\u001b[0m\n\u001b[0m\u001b[1;32m     15\u001b[0m \u001b[0mfall\u001b[0m\u001b[0;34m\u001b[0m\u001b[0;34m\u001b[0m\u001b[0m\n",
            "\u001b[0;32m/usr/local/lib/python3.6/dist-packages/pandas/core/indexes/base.py\u001b[0m in \u001b[0;36mastype\u001b[0;34m(self, dtype, copy)\u001b[0m\n\u001b[1;32m    711\u001b[0m             \u001b[0mcasted\u001b[0m \u001b[0;34m=\u001b[0m \u001b[0mself\u001b[0m\u001b[0;34m.\u001b[0m\u001b[0mvalues\u001b[0m\u001b[0;34m.\u001b[0m\u001b[0mastype\u001b[0m\u001b[0;34m(\u001b[0m\u001b[0mdtype\u001b[0m\u001b[0;34m,\u001b[0m \u001b[0mcopy\u001b[0m\u001b[0;34m=\u001b[0m\u001b[0mcopy\u001b[0m\u001b[0;34m)\u001b[0m\u001b[0;34m\u001b[0m\u001b[0;34m\u001b[0m\u001b[0m\n\u001b[1;32m    712\u001b[0m         \u001b[0;32mexcept\u001b[0m \u001b[0;34m(\u001b[0m\u001b[0mTypeError\u001b[0m\u001b[0;34m,\u001b[0m \u001b[0mValueError\u001b[0m\u001b[0;34m)\u001b[0m\u001b[0;34m:\u001b[0m\u001b[0;34m\u001b[0m\u001b[0;34m\u001b[0m\u001b[0m\n\u001b[0;32m--> 713\u001b[0;31m             \u001b[0;32mraise\u001b[0m \u001b[0mTypeError\u001b[0m\u001b[0;34m(\u001b[0m\u001b[0;34mf\"Cannot cast {type(self).__name__} to dtype {dtype}\"\u001b[0m\u001b[0;34m)\u001b[0m\u001b[0;34m\u001b[0m\u001b[0;34m\u001b[0m\u001b[0m\n\u001b[0m\u001b[1;32m    714\u001b[0m         \u001b[0;32mreturn\u001b[0m \u001b[0mIndex\u001b[0m\u001b[0;34m(\u001b[0m\u001b[0mcasted\u001b[0m\u001b[0;34m,\u001b[0m \u001b[0mname\u001b[0m\u001b[0;34m=\u001b[0m\u001b[0mself\u001b[0m\u001b[0;34m.\u001b[0m\u001b[0mname\u001b[0m\u001b[0;34m,\u001b[0m \u001b[0mdtype\u001b[0m\u001b[0;34m=\u001b[0m\u001b[0mdtype\u001b[0m\u001b[0;34m)\u001b[0m\u001b[0;34m\u001b[0m\u001b[0;34m\u001b[0m\u001b[0m\n\u001b[1;32m    715\u001b[0m \u001b[0;34m\u001b[0m\u001b[0m\n",
            "\u001b[0;31mTypeError\u001b[0m: Cannot cast Index to dtype <class 'float'>"
          ]
        }
      ]
    },
    {
      "cell_type": "code",
      "metadata": {
        "id": "4lxBjDwu_-85",
        "outputId": "fd021c21-7479-4864-da68-2adce3f7f437",
        "colab": {
          "base_uri": "https://localhost:8080/",
          "height": 377
        }
      },
      "source": [
        "fall2 = pd.date_range(start= '2019-09-02', end ='2019-11-06', freq='D')\n",
        "\n",
        "fall_start_date = '2019-09-02'\n",
        "fall_end_date = '2019-11-06'\n",
        "\n",
        "mask2 = (df['date'] >= fall_start_date ) & (df['date'] <= fall_end_date )\n",
        "mask2 = df.loc[mask2]\n",
        "mask2[\"season\"].fillna(\"fall\", inplace = True)\n",
        "mask2.to_csv('fall2.csv')\n",
        "mask2.head(5)\n",
        "mask2.info()\n",
        "mask2['available'].value_counts()"
      ],
      "execution_count": null,
      "outputs": [
        {
          "output_type": "stream",
          "text": [
            "/usr/local/lib/python3.6/dist-packages/pandas/core/generic.py:6245: SettingWithCopyWarning: \n",
            "A value is trying to be set on a copy of a slice from a DataFrame\n",
            "\n",
            "See the caveats in the documentation: https://pandas.pydata.org/pandas-docs/stable/user_guide/indexing.html#returning-a-view-versus-a-copy\n",
            "  self._update_inplace(new_data)\n"
          ],
          "name": "stderr"
        },
        {
          "output_type": "stream",
          "text": [
            "<class 'pandas.core.frame.DataFrame'>\n",
            "Int64Index: 1488432 entries, 0 to 8231344\n",
            "Data columns (total 5 columns):\n",
            " #   Column      Non-Null Count    Dtype         \n",
            "---  ------      --------------    -----         \n",
            " 0   listing_id  1488432 non-null  int64         \n",
            " 1   date        1488432 non-null  datetime64[ns]\n",
            " 2   available   1488432 non-null  object        \n",
            " 3   price       1488432 non-null  object        \n",
            " 4   season      1488432 non-null  object        \n",
            "dtypes: datetime64[ns](1), int64(1), object(3)\n",
            "memory usage: 68.1+ MB\n"
          ],
          "name": "stdout"
        },
        {
          "output_type": "execute_result",
          "data": {
            "text/plain": [
              "f    1174491\n",
              "t     313941\n",
              "Name: available, dtype: int64"
            ]
          },
          "metadata": {
            "tags": []
          },
          "execution_count": 7
        }
      ]
    },
    {
      "cell_type": "code",
      "metadata": {
        "id": "NpcfnpyhkyJv",
        "outputId": "847e3d00-46a0-4f13-96ca-bb79f0df4f16",
        "colab": {
          "base_uri": "https://localhost:8080/",
          "height": 293
        }
      },
      "source": [
        "spring = pd.date_range(start='2019-02-28', end ='2019-06-01', freq='D')\n",
        "\n",
        "spring_start_date = '2019-02-28'\n",
        "spring_end_date = '2019-06-01'\n",
        "\n",
        "mask3 = (df['date'] >= spring_start_date ) & (df['date'] <= spring_end_date )\n",
        "mask3 = df.loc[mask3]\n",
        "mask3[\"season\"].fillna(\"spring\", inplace = True)\n",
        "mask3.to_csv('spring.csv')\n",
        "mask3.head(5)"
      ],
      "execution_count": null,
      "outputs": [
        {
          "output_type": "stream",
          "text": [
            "/usr/local/lib/python3.6/dist-packages/pandas/core/generic.py:6245: SettingWithCopyWarning: \n",
            "A value is trying to be set on a copy of a slice from a DataFrame\n",
            "\n",
            "See the caveats in the documentation: https://pandas.pydata.org/pandas-docs/stable/user_guide/indexing.html#returning-a-view-versus-a-copy\n",
            "  self._update_inplace(new_data)\n"
          ],
          "name": "stderr"
        },
        {
          "output_type": "execute_result",
          "data": {
            "text/html": [
              "<div>\n",
              "<style scoped>\n",
              "    .dataframe tbody tr th:only-of-type {\n",
              "        vertical-align: middle;\n",
              "    }\n",
              "\n",
              "    .dataframe tbody tr th {\n",
              "        vertical-align: top;\n",
              "    }\n",
              "\n",
              "    .dataframe thead th {\n",
              "        text-align: right;\n",
              "    }\n",
              "</style>\n",
              "<table border=\"1\" class=\"dataframe\">\n",
              "  <thead>\n",
              "    <tr style=\"text-align: right;\">\n",
              "      <th></th>\n",
              "      <th>listing_id</th>\n",
              "      <th>date</th>\n",
              "      <th>available</th>\n",
              "      <th>price</th>\n",
              "      <th>season</th>\n",
              "    </tr>\n",
              "  </thead>\n",
              "  <tbody>\n",
              "    <tr>\n",
              "      <th>101</th>\n",
              "      <td>2015</td>\n",
              "      <td>2019-06-01</td>\n",
              "      <td>f</td>\n",
              "      <td>TBD</td>\n",
              "      <td>spring</td>\n",
              "    </tr>\n",
              "    <tr>\n",
              "      <th>102</th>\n",
              "      <td>2015</td>\n",
              "      <td>2019-05-31</td>\n",
              "      <td>f</td>\n",
              "      <td>TBD</td>\n",
              "      <td>spring</td>\n",
              "    </tr>\n",
              "    <tr>\n",
              "      <th>103</th>\n",
              "      <td>2015</td>\n",
              "      <td>2019-05-30</td>\n",
              "      <td>f</td>\n",
              "      <td>TBD</td>\n",
              "      <td>spring</td>\n",
              "    </tr>\n",
              "    <tr>\n",
              "      <th>104</th>\n",
              "      <td>2015</td>\n",
              "      <td>2019-05-29</td>\n",
              "      <td>f</td>\n",
              "      <td>TBD</td>\n",
              "      <td>spring</td>\n",
              "    </tr>\n",
              "    <tr>\n",
              "      <th>105</th>\n",
              "      <td>2015</td>\n",
              "      <td>2019-05-28</td>\n",
              "      <td>f</td>\n",
              "      <td>TBD</td>\n",
              "      <td>spring</td>\n",
              "    </tr>\n",
              "  </tbody>\n",
              "</table>\n",
              "</div>"
            ],
            "text/plain": [
              "     listing_id       date available price  season\n",
              "101        2015 2019-06-01         f   TBD  spring\n",
              "102        2015 2019-05-31         f   TBD  spring\n",
              "103        2015 2019-05-30         f   TBD  spring\n",
              "104        2015 2019-05-29         f   TBD  spring\n",
              "105        2015 2019-05-28         f   TBD  spring"
            ]
          },
          "metadata": {
            "tags": []
          },
          "execution_count": 8
        }
      ]
    },
    {
      "cell_type": "code",
      "metadata": {
        "id": "PUfK5MN3uWNF",
        "outputId": "84d5bb08-e21c-4412-a82b-a369927b35f8",
        "colab": {
          "base_uri": "https://localhost:8080/",
          "height": 323
        }
      },
      "source": [
        "summer = pd.date_range(start='2019-06-02', end ='2019-09-01', freq='D')\n",
        "\n",
        "summer_start_date = '2019-06-02'\n",
        "summer_end_date = '2019-09-01'\n",
        "\n",
        "mask4 = (df['date'] >= summer_start_date ) & (df['date'] <= summer_end_date )\n",
        "mask4 = df.loc[mask4]\n",
        "mask4[\"season\"].fillna(\"summer\", inplace = True)\n",
        "mask4.to_csv('summer.csv')\n",
        "mask4.head(5)\n",
        "mask4.info()"
      ],
      "execution_count": null,
      "outputs": [
        {
          "output_type": "stream",
          "text": [
            "/usr/local/lib/python3.6/dist-packages/pandas/core/generic.py:6245: SettingWithCopyWarning: \n",
            "A value is trying to be set on a copy of a slice from a DataFrame\n",
            "\n",
            "See the caveats in the documentation: https://pandas.pydata.org/pandas-docs/stable/user_guide/indexing.html#returning-a-view-versus-a-copy\n",
            "  self._update_inplace(new_data)\n"
          ],
          "name": "stderr"
        },
        {
          "output_type": "stream",
          "text": [
            "<class 'pandas.core.frame.DataFrame'>\n",
            "Int64Index: 2074784 entries, 9 to 8231254\n",
            "Data columns (total 5 columns):\n",
            " #   Column      Dtype         \n",
            "---  ------      -----         \n",
            " 0   listing_id  int64         \n",
            " 1   date        datetime64[ns]\n",
            " 2   available   object        \n",
            " 3   price       object        \n",
            " 4   season      object        \n",
            "dtypes: datetime64[ns](1), int64(1), object(3)\n",
            "memory usage: 95.0+ MB\n"
          ],
          "name": "stdout"
        }
      ]
    },
    {
      "cell_type": "code",
      "metadata": {
        "id": "hhv_aowFucaZ",
        "outputId": "69a55911-e848-429f-c8e5-00cd352bf994",
        "colab": {
          "base_uri": "https://localhost:8080/",
          "height": 323
        }
      },
      "source": [
        "winter = pd.date_range(start='2018-12-02', end ='2018-12-31', freq='D')\n",
        "\n",
        "winter_start_date = '2018-12-02'\n",
        "winter_end_date = '2018-12-31'\n",
        "\n",
        "mask5 = (df['date'] >= winter_start_date ) & (df['date'] <= winter_end_date )\n",
        "mask5 = df.loc[mask5]\n",
        "mask5[\"season\"].fillna(\"winter\", inplace = True)\n",
        "mask5.to_csv('winter.csv')\n",
        "mask5.head(5)\n",
        "mask5.info()"
      ],
      "execution_count": null,
      "outputs": [
        {
          "output_type": "stream",
          "text": [
            "/usr/local/lib/python3.6/dist-packages/pandas/core/generic.py:6245: SettingWithCopyWarning: \n",
            "A value is trying to be set on a copy of a slice from a DataFrame\n",
            "\n",
            "See the caveats in the documentation: https://pandas.pydata.org/pandas-docs/stable/user_guide/indexing.html#returning-a-view-versus-a-copy\n",
            "  self._update_inplace(new_data)\n"
          ],
          "name": "stderr"
        },
        {
          "output_type": "stream",
          "text": [
            "<class 'pandas.core.frame.DataFrame'>\n",
            "Int64Index: 676560 entries, 253 to 8231454\n",
            "Data columns (total 5 columns):\n",
            " #   Column      Non-Null Count   Dtype         \n",
            "---  ------      --------------   -----         \n",
            " 0   listing_id  676560 non-null  int64         \n",
            " 1   date        676560 non-null  datetime64[ns]\n",
            " 2   available   676560 non-null  object        \n",
            " 3   price       676560 non-null  object        \n",
            " 4   season      676560 non-null  object        \n",
            "dtypes: datetime64[ns](1), int64(1), object(3)\n",
            "memory usage: 31.0+ MB\n"
          ],
          "name": "stdout"
        }
      ]
    },
    {
      "cell_type": "code",
      "metadata": {
        "id": "wbJQO7cAw1cR",
        "outputId": "2a02ab56-6635-4392-9a7c-e4c91e2cadc8",
        "colab": {
          "base_uri": "https://localhost:8080/",
          "height": 293
        }
      },
      "source": [
        "winter2 = pd.date_range(start='2019-01-01', end ='2019-02-27', freq='D')\n",
        "\n",
        "winter2_start_date = '2019-01-01'\n",
        "winter2_end_date = '2019-02-27'\n",
        "\n",
        "mask6 = (df['date'] >= winter2_start_date ) & (df['date'] <= winter2_end_date )\n",
        "mask6 = df.loc[mask6]\n",
        "mask6[\"season\"].fillna(\"winter\", inplace = True)\n",
        "mask6.to_csv('winter2.csv')\n",
        "mask6.head(5)"
      ],
      "execution_count": null,
      "outputs": [
        {
          "output_type": "stream",
          "text": [
            "/usr/local/lib/python3.6/dist-packages/pandas/core/generic.py:6245: SettingWithCopyWarning: \n",
            "A value is trying to be set on a copy of a slice from a DataFrame\n",
            "\n",
            "See the caveats in the documentation: https://pandas.pydata.org/pandas-docs/stable/user_guide/indexing.html#returning-a-view-versus-a-copy\n",
            "  self._update_inplace(new_data)\n"
          ],
          "name": "stderr"
        },
        {
          "output_type": "execute_result",
          "data": {
            "text/html": [
              "<div>\n",
              "<style scoped>\n",
              "    .dataframe tbody tr th:only-of-type {\n",
              "        vertical-align: middle;\n",
              "    }\n",
              "\n",
              "    .dataframe tbody tr th {\n",
              "        vertical-align: top;\n",
              "    }\n",
              "\n",
              "    .dataframe thead th {\n",
              "        text-align: right;\n",
              "    }\n",
              "</style>\n",
              "<table border=\"1\" class=\"dataframe\">\n",
              "  <thead>\n",
              "    <tr style=\"text-align: right;\">\n",
              "      <th></th>\n",
              "      <th>listing_id</th>\n",
              "      <th>date</th>\n",
              "      <th>available</th>\n",
              "      <th>price</th>\n",
              "      <th>season</th>\n",
              "    </tr>\n",
              "  </thead>\n",
              "  <tbody>\n",
              "    <tr>\n",
              "      <th>195</th>\n",
              "      <td>2015</td>\n",
              "      <td>2019-02-27</td>\n",
              "      <td>t</td>\n",
              "      <td>$76.00</td>\n",
              "      <td>winter</td>\n",
              "    </tr>\n",
              "    <tr>\n",
              "      <th>196</th>\n",
              "      <td>2015</td>\n",
              "      <td>2019-02-26</td>\n",
              "      <td>t</td>\n",
              "      <td>$76.00</td>\n",
              "      <td>winter</td>\n",
              "    </tr>\n",
              "    <tr>\n",
              "      <th>197</th>\n",
              "      <td>2015</td>\n",
              "      <td>2019-02-25</td>\n",
              "      <td>t</td>\n",
              "      <td>$76.00</td>\n",
              "      <td>winter</td>\n",
              "    </tr>\n",
              "    <tr>\n",
              "      <th>198</th>\n",
              "      <td>2015</td>\n",
              "      <td>2019-02-24</td>\n",
              "      <td>t</td>\n",
              "      <td>$76.00</td>\n",
              "      <td>winter</td>\n",
              "    </tr>\n",
              "    <tr>\n",
              "      <th>199</th>\n",
              "      <td>2015</td>\n",
              "      <td>2019-02-23</td>\n",
              "      <td>t</td>\n",
              "      <td>$77.00</td>\n",
              "      <td>winter</td>\n",
              "    </tr>\n",
              "  </tbody>\n",
              "</table>\n",
              "</div>"
            ],
            "text/plain": [
              "     listing_id       date available   price  season\n",
              "195        2015 2019-02-27         t  $76.00  winter\n",
              "196        2015 2019-02-26         t  $76.00  winter\n",
              "197        2015 2019-02-25         t  $76.00  winter\n",
              "198        2015 2019-02-24         t  $76.00  winter\n",
              "199        2015 2019-02-23         t  $77.00  winter"
            ]
          },
          "metadata": {
            "tags": []
          },
          "execution_count": 11
        }
      ]
    },
    {
      "cell_type": "markdown",
      "metadata": {
        "id": "tF2kaVnrL1f8"
      },
      "source": [
        "This prepares the previous cells to merge into a new csv to be saved, this way the workspace will be cleaner in order to concat.\n",
        "---\n",
        "\n"
      ]
    },
    {
      "cell_type": "code",
      "metadata": {
        "id": "9RRg7OZQIJo3",
        "outputId": "290a53cc-bd1c-47c0-f7cc-25542181379e",
        "colab": {
          "base_uri": "https://localhost:8080/",
          "height": 53
        }
      },
      "source": [
        "import os\n",
        "cwd = os.getcwd() \n",
        "from os import listdir\n",
        "from os.path import isfile, join\n",
        "onlyfiles = [f for f in listdir(cwd) if isfile(join(cwd, f))]\n",
        "\n",
        "print(cwd)\n",
        "print(onlyfiles)"
      ],
      "execution_count": null,
      "outputs": [
        {
          "output_type": "stream",
          "text": [
            "/content\n",
            "['fall2.csv', 'summer.csv', 'winter2.csv', 'spring.csv', 'fall.csv', 'winter.csv']\n"
          ],
          "name": "stdout"
        }
      ]
    },
    {
      "cell_type": "code",
      "metadata": {
        "id": "XrYgP4tAwjNt",
        "outputId": "3a5a674e-9497-426f-f79b-527eb0690a99",
        "colab": {
          "base_uri": "https://localhost:8080/",
          "height": 287
        }
      },
      "source": [
        "import os\n",
        "cwd = os.getcwd() \n",
        "\n",
        "files = [file for file in os.listdir(cwd)]\n",
        "\n",
        "data = pd.DataFrame()\n",
        "\n",
        "for file in files:\n",
        "    if \"drive\" in file or \".config\" in file or \"sample_data\" in file:\n",
        "      continue\n",
        "    filePath = cwd + \"/\" + file\n",
        "    #print(filePath)\n",
        "    df1 = pd.read_csv(filePath)\n",
        "    print(\"shape of current season: \", df.shape)\n",
        "    #print(df.head())\n",
        "    data = pd.concat([data,df1])\n",
        "    \n",
        "data.to_csv(\"seasons2.csv\", index=False)\n",
        "\n",
        "\n",
        "airbnb_cal = pd.read_csv(cwd + \"/seasons2.csv\")\n",
        "\n",
        "print(airbnb_cal.head())\n",
        "print(airbnb_cal.shape)\n",
        "print(airbnb_cal.columns)"
      ],
      "execution_count": null,
      "outputs": [
        {
          "output_type": "stream",
          "text": [
            "shape of current season:  (8231480, 5)\n",
            "shape of current season:  (8231480, 5)\n",
            "shape of current season:  (8231480, 5)\n",
            "shape of current season:  (8231480, 5)\n",
            "shape of current season:  (8231480, 5)\n",
            "shape of current season:  (8231480, 5)\n",
            "shape of current season:  (8231480, 5)\n",
            "   Unnamed: 0  listing_id        date available price season\n",
            "0           0        2015  2019-09-10         f   TBD   fall\n",
            "1           1        2015  2019-09-09         f   TBD   fall\n",
            "2           2        2015  2019-09-08         f   TBD   fall\n",
            "3           3        2015  2019-09-07         f   TBD   fall\n",
            "4           4        2015  2019-09-06         f   TBD   fall\n",
            "(16462948, 6)\n",
            "Index(['Unnamed: 0', 'listing_id', 'date', 'available', 'price', 'season'], dtype='object')\n"
          ],
          "name": "stdout"
        }
      ]
    },
    {
      "cell_type": "markdown",
      "metadata": {
        "id": "_KhASS516ePc"
      },
      "source": [
        "#Beginning\n",
        "\n",
        "<h1> **All of the previous cells have been condensed into the cell below!**\n",
        "</h1>\n",
        "---\n",
        "\n",
        "All previous cells have been saved on my google drive as a new CSV called \"seasons\". I only included the above cells to show my work for the timedate code preparation for the following cells. \n",
        "\n"
      ]
    },
    {
      "cell_type": "code",
      "metadata": {
        "id": "yvrLxGXDSD4L",
        "outputId": "14bf3bd0-54ae-4bca-91e9-d42761473438",
        "colab": {
          "base_uri": "https://localhost:8080/",
          "height": 359
        }
      },
      "source": [
        "airbnb_cal = pd.read_csv('/content/drive/My Drive/seasons (4).csv')\n",
        "print(airbnb_cal.set_index('listing_id', inplace=False))\n",
        "airbnb_cal['price'] = airbnb_cal['price'].replace('TBD', 0) \n",
        "print(airbnb_cal.available.unique())\n",
        "airbnb_cal.head()\n",
        "airbnb_copy = airbnb_cal.copy()\n",
        "print(airbnb_cal['available'].convert_dtypes(infer_objects=True).dtypes)\n",
        "print(airbnb_cal['available'].unique())\n",
        "airbnb_cal['price'] = airbnb_cal['price'].str.replace(\"$\",\"\")\n",
        "print(airbnb_cal['available'].unique())\n",
        "airbnb_cal['price'] = airbnb_cal['price'].str.replace(\",\",\"\")\n",
        "airbnb_cal['price'] = airbnb_cal['price'].astype(float)\n",
        "avg_price = airbnb_cal.groupby('listing_id')['price'].mean().rename(\"season_avg_price\").reset_index() \n",
        "airbnb_cal = airbnb_cal.merge(avg_price)\n",
        "airbnb_cal = airbnb_cal.dropna()\n",
        "airbnb_cal.set_index('listing_id', inplace=True)\n"
      ],
      "execution_count": null,
      "outputs": [
        {
          "output_type": "stream",
          "text": [
            "            Unnamed: 0        date available price  season\n",
            "listing_id                                                \n",
            "2015                 0  2019-09-10         f   TBD    fall\n",
            "2015                 1  2019-09-09         f   TBD    fall\n",
            "2015                 2  2019-09-08         f   TBD    fall\n",
            "2015                 3  2019-09-07         f   TBD    fall\n",
            "2015                 4  2019-09-06         f   TBD    fall\n",
            "...                ...         ...       ...   ...     ...\n",
            "29809357       8231450  2018-12-06         f   TBD  winter\n",
            "29809357       8231451  2018-12-05         f   TBD  winter\n",
            "29809357       8231452  2018-12-04         f   TBD  winter\n",
            "29809357       8231453  2018-12-03         f   TBD  winter\n",
            "29809357       8231454  2018-12-02         f   TBD  winter\n",
            "\n",
            "[8231474 rows x 5 columns]\n",
            "['f' 't']\n",
            "string\n",
            "['f' 't']\n",
            "['f' 't']\n"
          ],
          "name": "stdout"
        }
      ]
    },
    {
      "cell_type": "markdown",
      "metadata": {
        "id": "aWBnHRUwUIU9"
      },
      "source": [
        "The above dataset now contains seasonal information from 2018-2019.\n",
        "The dataset below will add more detail to the properties listed above, such as location information including the amount of bedrooms an entire home has, or if it's a private or shared room. \n",
        "---\n",
        "\n",
        "\n",
        "\n",
        "       "
      ]
    },
    {
      "cell_type": "code",
      "metadata": {
        "id": "HharAaO8OwUK",
        "outputId": "65e8fb43-0115-482a-f8ab-f8275ca464ae",
        "colab": {
          "base_uri": "https://localhost:8080/",
          "height": 791
        }
      },
      "source": [
        "PATH2 = \"/content/drive/My Drive/listings_summary.csv\"\n",
        "airb2 = pd.read_csv(PATH2)\n",
        "print(airb2.columns)\n",
        "print(airb2.describe)\n",
        "\n",
        "airb2.drop(columns=['scrape_id', 'last_scraped', 'name', 'summary',\n",
        "       'space', 'description', 'experiences_offered', 'neighborhood_overview',\n",
        "       'notes', 'transit', 'access', 'interaction', 'house_rules',\n",
        "       'thumbnail_url', 'medium_url', 'picture_url', 'xl_picture_url','host_name','host_about', 'host_response_time', 'host_response_rate',\n",
        "       'host_acceptance_rate', 'host_is_superhost', 'host_thumbnail_url',\n",
        "       'host_picture_url','host_listings_count',\n",
        "       'host_total_listings_count', 'host_verifications',\n",
        "       'host_has_profile_pic', 'host_identity_verified', 'street','neighbourhood_cleansed',\n",
        "       'neighbourhood_group_cleansed', 'city', 'state','smart_location', 'country_code', 'country', 'latitude', 'longitude',\n",
        "       'is_location_exact','smart_location', 'country_code', 'country', 'latitude', 'longitude',\n",
        "       'is_location_exact', 'calendar_updated', 'has_availability',\n",
        "       'availability_30', 'availability_60', 'availability_90',\n",
        "       'availability_365', 'calendar_last_scraped', 'first_review', 'last_review','review_scores_accuracy', 'review_scores_cleanliness',\n",
        "       'review_scores_checkin', 'review_scores_communication',\n",
        "       'review_scores_location', 'review_scores_value', 'requires_license',\n",
        "       'license', 'jurisdiction_names', 'instant_bookable',\n",
        "       'is_business_travel_ready', 'cancellation_policy',\n",
        "       'require_guest_profile_picture', 'require_guest_phone_verification',\n",
        "       'calculated_host_listings_count','reviews_per_month', 'host_id', 'host_url', 'host_since',\n",
        "       'host_location', 'host_neighbourhood','security_deposit', 'cleaning_fee','accommodates', 'minimum_nights', 'maximum_nights', 'number_of_reviews', 'review_scores_rating',\n",
        "       'guests_included', 'extra_people', 'beds', 'listing_url',\n",
        "       'bed_type', 'amenities','market'], inplace=True)\n",
        "airb2.rename(columns={'id': 'listing_id'}, inplace=True)\n",
        "#airb2['listing_id'] = airb2['id']\n",
        "\n"
      ],
      "execution_count": null,
      "outputs": [
        {
          "output_type": "stream",
          "text": [
            "Index(['id', 'listing_url', 'scrape_id', 'last_scraped', 'name', 'summary',\n",
            "       'space', 'description', 'experiences_offered', 'neighborhood_overview',\n",
            "       'notes', 'transit', 'access', 'interaction', 'house_rules',\n",
            "       'thumbnail_url', 'medium_url', 'picture_url', 'xl_picture_url',\n",
            "       'host_id', 'host_url', 'host_name', 'host_since', 'host_location',\n",
            "       'host_about', 'host_response_time', 'host_response_rate',\n",
            "       'host_acceptance_rate', 'host_is_superhost', 'host_thumbnail_url',\n",
            "       'host_picture_url', 'host_neighbourhood', 'host_listings_count',\n",
            "       'host_total_listings_count', 'host_verifications',\n",
            "       'host_has_profile_pic', 'host_identity_verified', 'street',\n",
            "       'neighbourhood', 'neighbourhood_cleansed',\n",
            "       'neighbourhood_group_cleansed', 'city', 'state', 'zipcode', 'market',\n",
            "       'smart_location', 'country_code', 'country', 'latitude', 'longitude',\n",
            "       'is_location_exact', 'property_type', 'room_type', 'accommodates',\n",
            "       'bathrooms', 'bedrooms', 'beds', 'bed_type', 'amenities', 'square_feet',\n",
            "       'price', 'weekly_price', 'monthly_price', 'security_deposit',\n",
            "       'cleaning_fee', 'guests_included', 'extra_people', 'minimum_nights',\n",
            "       'maximum_nights', 'calendar_updated', 'has_availability',\n",
            "       'availability_30', 'availability_60', 'availability_90',\n",
            "       'availability_365', 'calendar_last_scraped', 'number_of_reviews',\n",
            "       'first_review', 'last_review', 'review_scores_rating',\n",
            "       'review_scores_accuracy', 'review_scores_cleanliness',\n",
            "       'review_scores_checkin', 'review_scores_communication',\n",
            "       'review_scores_location', 'review_scores_value', 'requires_license',\n",
            "       'license', 'jurisdiction_names', 'instant_bookable',\n",
            "       'is_business_travel_ready', 'cancellation_policy',\n",
            "       'require_guest_profile_picture', 'require_guest_phone_verification',\n",
            "       'calculated_host_listings_count', 'reviews_per_month'],\n",
            "      dtype='object')\n",
            "<bound method NDFrame.describe of              id  ... reviews_per_month\n",
            "0          2015  ...              3.76\n",
            "1          2695  ...              1.42\n",
            "2          3176  ...              1.25\n",
            "3          3309  ...              0.39\n",
            "4          7071  ...              1.75\n",
            "...         ...  ...               ...\n",
            "22547  29856708  ...               NaN\n",
            "22548  29857108  ...               NaN\n",
            "22549  29864272  ...               NaN\n",
            "22550  29866805  ...               NaN\n",
            "22551  29867352  ...               NaN\n",
            "\n",
            "[22552 rows x 96 columns]>\n"
          ],
          "name": "stdout"
        }
      ]
    },
    {
      "cell_type": "markdown",
      "metadata": {
        "id": "nrLKyzyqhNbp"
      },
      "source": [
        "This code block below refines the dataframe to focus only on the parameters that we are looking for. "
      ]
    },
    {
      "cell_type": "code",
      "metadata": {
        "id": "-VpTKCugDDYx",
        "outputId": "b4e9306f-1ac2-4067-f1e2-ba6d453b13c6",
        "colab": {
          "base_uri": "https://localhost:8080/",
          "height": 161
        }
      },
      "source": [
        "airbnb_berlin = pd.merge(airbnb_cal, airb2, on=['listing_id'], how='left')\n",
        "airbnb_berlin = airbnb_berlin.loc[:, ~airbnb_berlin.columns.str.contains('^Unnamed')]\n",
        "pd.set_option('display.max_columns', None)\n",
        "#pd.reset_option('max_columns')\n",
        "airbnb_berlin.drop(columns=['price_y','weekly_price', 'monthly_price', 'property_type','square_feet'], inplace=True)\n",
        "airbnb_berlin.rename(columns={'neighbourhood':'area', 'bathrooms':'bath', 'zipcode':'zip',\n",
        "                              'room_type':'room', 'price_x':'price'}, inplace=True)\n",
        "airbnb_berlin.set_index('listing_id', inplace=False)\n",
        "airbnb_berlin['price'] = airbnb_berlin['price'].astype(float)\n",
        "print(airbnb_berlin['area'].isnull().sum())\n",
        "airbnb_berlin_areas = airbnb_berlin[airbnb_berlin['area'].notna()]\n",
        "airbnb_berlin_areas.convert_dtypes(infer_objects=True).dtypes\n",
        "airbnb_berlin_areas['area'] = airbnb_berlin_areas['area'].astype(str)\n",
        "print(airbnb_berlin_areas['area'].isnull().sum())\n"
      ],
      "execution_count": null,
      "outputs": [
        {
          "output_type": "stream",
          "text": [
            "133585\n",
            "0\n"
          ],
          "name": "stdout"
        },
        {
          "output_type": "stream",
          "text": [
            "/usr/local/lib/python3.6/dist-packages/ipykernel_launcher.py:13: SettingWithCopyWarning: \n",
            "A value is trying to be set on a copy of a slice from a DataFrame.\n",
            "Try using .loc[row_indexer,col_indexer] = value instead\n",
            "\n",
            "See the caveats in the documentation: https://pandas.pydata.org/pandas-docs/stable/user_guide/indexing.html#returning-a-view-versus-a-copy\n",
            "  del sys.path[0]\n"
          ],
          "name": "stderr"
        }
      ]
    },
    {
      "cell_type": "markdown",
      "metadata": {
        "id": "WVuJnuD9q78w"
      },
      "source": [
        "The code block below isolates the 'room' column into \"Entire home/apt\" so that we can look at only the data for an someone renting an entire location, as opposed to just renting a room. \n",
        "---\n",
        "\n"
      ]
    },
    {
      "cell_type": "code",
      "metadata": {
        "id": "MwChnentNwhF",
        "outputId": "c77b0133-9c35-4a6b-891c-b09539b6f2ac",
        "colab": {
          "base_uri": "https://localhost:8080/",
          "height": 269
        }
      },
      "source": [
        "print(airbnb_berlin['room'].unique())\n",
        "entire_home = airbnb_berlin.loc[airbnb_berlin['room'].isin(['Entire home/apt'])]\n",
        "print(entire_home.head())\n",
        "entire_home_spring = airbnb_berlin.loc[airbnb_berlin['season'].isin(['spring'])]\n",
        "entire_home_summer = airbnb_berlin.loc[airbnb_berlin['season'].isin(['summer'])]\n",
        "entire_home_fall = airbnb_berlin.loc[airbnb_berlin['season'].isin(['fall'])]\n",
        "entire_home_winter = airbnb_berlin.loc[airbnb_berlin['season'].isin(['winter'])]\n"
      ],
      "execution_count": null,
      "outputs": [
        {
          "output_type": "stream",
          "text": [
            "['Entire home/apt' 'Private room' 'Shared room']\n",
            "   listing_id        date available  price  season  season_avg_price   area  \\\n",
            "0        2015  2019-02-27         t   76.0  winter         81.900709  Mitte   \n",
            "1        2015  2019-02-26         t   76.0  winter         81.900709  Mitte   \n",
            "2        2015  2019-02-25         t   76.0  winter         81.900709  Mitte   \n",
            "3        2015  2019-02-24         t   76.0  winter         81.900709  Mitte   \n",
            "4        2015  2019-02-23         t   77.0  winter         81.900709  Mitte   \n",
            "\n",
            "     zip             room  bath  bedrooms  \n",
            "0  10119  Entire home/apt   1.0       1.0  \n",
            "1  10119  Entire home/apt   1.0       1.0  \n",
            "2  10119  Entire home/apt   1.0       1.0  \n",
            "3  10119  Entire home/apt   1.0       1.0  \n",
            "4  10119  Entire home/apt   1.0       1.0  \n"
          ],
          "name": "stdout"
        }
      ]
    },
    {
      "cell_type": "markdown",
      "metadata": {
        "id": "aMSvxy2BLhWp"
      },
      "source": [
        "This code block prepares the confidence interval setup.\n",
        "---\n",
        "\n"
      ]
    },
    {
      "cell_type": "code",
      "metadata": {
        "id": "IRGVMbRYbusz"
      },
      "source": [
        "import math\n",
        "\n",
        "def get_95_ci(array_1, array_2):\n",
        "    sample_1_n = array_1.shape[0]\n",
        "    sample_2_n = array_2.shape[0]\n",
        "    sample_1_mean = array_1.mean()\n",
        "    sample_2_mean = array_2.mean()\n",
        "    sample_1_var = array_1.var()\n",
        "    sample_2_var = array_2.var()\n",
        "    mean_difference = sample_2_mean - sample_1_mean\n",
        "    std_err_difference = math.sqrt((sample_1_var/sample_1_n)+(sample_2_var/sample_2_n))\n",
        "    margin_of_error = 1.96 * std_err_difference\n",
        "    ci_lower = mean_difference - margin_of_error\n",
        "    ci_upper = mean_difference + margin_of_error\n",
        "    return(\"The difference in means at the 95% confidence interval (two-tail) is between \"+str(ci_lower)+\" and \"+str(ci_upper)+\".\")"
      ],
      "execution_count": null,
      "outputs": []
    },
    {
      "cell_type": "code",
      "metadata": {
        "id": "wtPONVflhasJ",
        "outputId": "ab8e82d8-bfea-409d-b63d-a28c4f7148d1",
        "colab": {
          "base_uri": "https://localhost:8080/",
          "height": 359
        }
      },
      "source": [
        "airbnb_berlin.info()\n",
        "airbnb_berlin.room.unique()"
      ],
      "execution_count": null,
      "outputs": [
        {
          "output_type": "stream",
          "text": [
            "<class 'pandas.core.frame.DataFrame'>\n",
            "Int64Index: 1800839 entries, 0 to 1800838\n",
            "Data columns (total 11 columns):\n",
            " #   Column            Dtype  \n",
            "---  ------            -----  \n",
            " 0   listing_id        int64  \n",
            " 1   date              object \n",
            " 2   available         object \n",
            " 3   price             float64\n",
            " 4   season            object \n",
            " 5   season_avg_price  float64\n",
            " 6   area              object \n",
            " 7   zip               object \n",
            " 8   room              object \n",
            " 9   bath              float64\n",
            " 10  bedrooms          float64\n",
            "dtypes: float64(4), int64(1), object(6)\n",
            "memory usage: 164.9+ MB\n"
          ],
          "name": "stdout"
        },
        {
          "output_type": "execute_result",
          "data": {
            "text/plain": [
              "array(['Entire home/apt', 'Private room', 'Shared room'], dtype=object)"
            ]
          },
          "metadata": {
            "tags": []
          },
          "execution_count": 25
        }
      ]
    },
    {
      "cell_type": "markdown",
      "metadata": {
        "id": "RnIatzNfLE6a"
      },
      "source": [
        "This code prepares the visualization and describe method for each variable.\n",
        "---\n",
        "\n"
      ]
    },
    {
      "cell_type": "code",
      "metadata": {
        "id": "7fAHqwgQ-ahK"
      },
      "source": [
        "import string\n",
        "\n",
        "def barplot_comparison(df,y_col,x_list\n",
        "                       ):\n",
        "    plt.figure(figsize=(15,5))\n",
        "    plt.suptitle(\"Comparing {} by {}\".format(string.capwords(', '.join(x_list)),\n",
        "                                             string.capwords(y_col)),\n",
        "                 fontsize=16)\n",
        "    for subplot, score in enumerate(x_list,1):\n",
        "        ax = plt.subplot(1,3,subplot)\n",
        "        g=sns.barplot(x=score,\n",
        "                    y=y_col,\n",
        "                    data=df)\n",
        "    plt.tight_layout()\n",
        "    plt.show()\n",
        "    all_cols = x_list.insert(0,y_col)\n",
        "    grouped_values = df[x_list].groupby(y_col)\n",
        "    print(grouped_values.describe())\n"
      ],
      "execution_count": null,
      "outputs": []
    },
    {
      "cell_type": "markdown",
      "metadata": {
        "id": "nmHZuM1nN96g"
      },
      "source": [
        "THIS WILL SET UP A VACANCY COLUMN TO DISPLAY WHAT DATES ARE BOOKED/UNBOOKED.\n",
        "---\n",
        "This pulls from an unaltered copy from the original df, after being concatenated with the airbnb_cal."
      ]
    },
    {
      "cell_type": "markdown",
      "metadata": {
        "id": "3LjSQamALt-3"
      },
      "source": [
        "This code block below prepares the vacancy information of each season.\n",
        "---\n",
        "\n"
      ]
    },
    {
      "cell_type": "code",
      "metadata": {
        "id": "weflAVnSc0tY",
        "outputId": "40e57983-4697-4aeb-a2ce-d89721954486",
        "colab": {
          "base_uri": "https://localhost:8080/",
          "height": 71
        }
      },
      "source": [
        "vacancy = airbnb_copy['available']\n",
        "print(vacancy.value_counts())\n",
        "#This will make all dates that are booked print as 1\n",
        "vacancy.replace('f', 1, inplace=True)\n",
        "#This will make all dates that are NOT booked print as 0\n",
        "vacancy.replace('t', 0, inplace=True)\n",
        "\n",
        "airbnb_copy['vacancy'] = vacancy\n",
        "spring = airbnb_copy[airbnb_copy['season'] == 'spring']\n",
        "summer = airbnb_copy[airbnb_copy['season'] == 'summer']\n",
        "fall = airbnb_copy[airbnb_copy['season'] == 'fall']\n",
        "winter = airbnb_copy[airbnb_copy['season'] == 'winter']\n",
        "\n",
        "#Vacancy will indicate the dates that properties are NOT booked.\n",
        "spring_vacancy = len(spring.loc[spring['available'] == 0])\n",
        "#Vacancy will indicate the dates that properties are booked.\n",
        "spring_non_vacancy = len(spring.loc[spring['available'] == 1])\n",
        "\n",
        "#Vacancy will indicate the dates that properties are NOT booked.\n",
        "summer_vacancy = len(summer.loc[summer['available'] == 0])\n",
        "#Vacancy will indicate the dates that properties are booked.\n",
        "summer_non_vacancy = len(summer.loc[summer['available'] == 1])\n",
        "\n",
        "#Vacancy will indicate the dates that properties are NOT booked.\n",
        "fall_vacancy = len(fall.loc[fall['available'] == 0])\n",
        "#Vacancy will indicate the dates that properties are booked.\n",
        "fall_non_vacancy = len(fall.loc[fall['available'] == 1])\n",
        "\n",
        "#Vacancy will indicate the dates that properties are NOT booked.\n",
        "winter_vacancy = len(winter.loc[winter['available'] == 0])\n",
        "#Vacancy will indicate the dates that properties are booked.\n",
        "winter_non_vacancy = len(winter.loc[winter['available'] == 1])"
      ],
      "execution_count": null,
      "outputs": [
        {
          "output_type": "stream",
          "text": [
            "f    6430635\n",
            "t    1800839\n",
            "Name: available, dtype: int64\n"
          ],
          "name": "stdout"
        }
      ]
    },
    {
      "cell_type": "markdown",
      "metadata": {
        "id": "VFyxO0mOVqBZ"
      },
      "source": [
        "#Descriptive Statistics\n",
        "\n",
        "In this section the property information is broken down and combined with seasonal pricing information."
      ]
    },
    {
      "cell_type": "markdown",
      "metadata": {
        "id": "lYyyDz-HoL4q"
      },
      "source": [
        "This section shows the average price differences in the \"Entire Home/Apt\" category in the four different seasons.\n",
        "---\n",
        "\n",
        "The below function allows for a describe method and visualizations applied to each parameter in the column."
      ]
    },
    {
      "cell_type": "code",
      "metadata": {
        "id": "PVLK7t31n8KD",
        "outputId": "1ca472aa-2fb9-4620-fff0-13ad0356ad10",
        "colab": {
          "base_uri": "https://localhost:8080/",
          "height": 499
        }
      },
      "source": [
        "entire_home = airbnb_berlin[airbnb_berlin['room'] == 'Entire home/apt']\n",
        "\n",
        "barplot_comparison(entire_home,\n",
        "                   'season',\n",
        "                   ['price'])"
      ],
      "execution_count": null,
      "outputs": [
        {
          "output_type": "display_data",
          "data": {
            "image/png": "[encoded data removed]",
            "text/plain": [
              "<Figure size 1080x360 with 1 Axes>"
            ]
          },
          "metadata": {
            "tags": [],
            "needs_background": "light"
          }
        },
        {
          "output_type": "stream",
          "text": [
            "           price                                                        \n",
            "           count        mean         std  min   25%   50%    75%     max\n",
            "season                                                                  \n",
            "fall    221025.0  101.918095  100.647659  9.0  58.0  79.0  110.0  4939.0\n",
            "spring  278893.0  105.215108  113.678203  9.0  60.0  80.0  119.0  3006.0\n",
            "summer  244442.0  102.619464   97.074372  9.0  58.0  80.0  115.0  2500.0\n",
            "winter  243065.0  109.896184  117.665404  9.0  60.0  82.0  120.0  3000.0\n"
          ],
          "name": "stdout"
        }
      ]
    },
    {
      "cell_type": "markdown",
      "metadata": {
        "id": "m-dl7W7QJm53"
      },
      "source": [
        "This prepares the \"3 or more bedroom\" category.\n",
        "---\n",
        "\n"
      ]
    },
    {
      "cell_type": "code",
      "metadata": {
        "id": "9ehZGQnt74PE",
        "outputId": "bf9b52aa-d710-4df7-ba97-1ad03e25e7c6",
        "colab": {
          "base_uri": "https://localhost:8080/",
          "height": 251
        }
      },
      "source": [
        "#This will replace 0 bedroom with 'studio'\n",
        "entire_home['bedrooms'] = entire_home['bedrooms'].replace([0], 'studio')\n",
        "#This code will let us see only for options for the entire home category\n",
        "entire_home['bedrooms'] = entire_home['bedrooms'].replace([3,4, 5, 6, 7, 8, 9, 12], '3+ bedrooms')\n",
        "three_or_more_bd_property = entire_home[entire_home['bedrooms'] == '3+ bedrooms']\n",
        "print(entire_home['bedrooms'].unique())"
      ],
      "execution_count": null,
      "outputs": [
        {
          "output_type": "stream",
          "text": [
            "/usr/local/lib/python3.6/dist-packages/ipykernel_launcher.py:2: SettingWithCopyWarning: \n",
            "A value is trying to be set on a copy of a slice from a DataFrame.\n",
            "Try using .loc[row_indexer,col_indexer] = value instead\n",
            "\n",
            "See the caveats in the documentation: https://pandas.pydata.org/pandas-docs/stable/user_guide/indexing.html#returning-a-view-versus-a-copy\n",
            "  \n",
            "/usr/local/lib/python3.6/dist-packages/ipykernel_launcher.py:4: SettingWithCopyWarning: \n",
            "A value is trying to be set on a copy of a slice from a DataFrame.\n",
            "Try using .loc[row_indexer,col_indexer] = value instead\n",
            "\n",
            "See the caveats in the documentation: https://pandas.pydata.org/pandas-docs/stable/user_guide/indexing.html#returning-a-view-versus-a-copy\n",
            "  after removing the cwd from sys.path.\n"
          ],
          "name": "stderr"
        },
        {
          "output_type": "stream",
          "text": [
            "[1.0 2.0 '3+ bedrooms' 'studio' nan]\n"
          ],
          "name": "stdout"
        }
      ]
    },
    {
      "cell_type": "markdown",
      "metadata": {
        "id": "GdKc1jmvKjWQ"
      },
      "source": [
        "This will describe the information on the mean average price of a 'one bedroom' apartment/house to rent on average.\n",
        "---\n",
        "\n"
      ]
    },
    {
      "cell_type": "code",
      "metadata": {
        "id": "jjaK3fIQ7ePk",
        "outputId": "ba127f13-e0c0-472c-96ec-f0d4ebf9a397",
        "colab": {
          "base_uri": "https://localhost:8080/",
          "height": 761
        }
      },
      "source": [
        "one_bd_property = entire_home[entire_home['bedrooms'] == 1.0]\n",
        "one_bd_property.describe()\n",
        "\n",
        "barplot_comparison(one_bd_property, \n",
        "                   'season',\n",
        "                   ['price'])\n",
        "\n",
        "one_bd_property_spring = one_bd_property[one_bd_property['season'] == 'spring']\n",
        "one_bd_property_summer = one_bd_property[one_bd_property['season'] == 'summer']\n",
        "one_bd_property_fall = one_bd_property[one_bd_property['season'] == 'fall']\n",
        "one_bd_property_winter = one_bd_property[one_bd_property['season'] == 'winter']\n",
        "\n",
        "\n",
        "print('\\n')\n",
        "print('This shows the spring and summer comparison for one bedroom.','\\n' , get_95_ci(one_bd_property_spring['price'], one_bd_property_summer['price']))\n",
        "print('The t-test results are as follows:')\n",
        "print(stats.ttest_ind(one_bd_property_spring['price'], one_bd_property_summer['price']))\n",
        "print('\\n')\n",
        "print('This shows the fall and summer comparison for one bedroom.','\\n' , get_95_ci(one_bd_property_summer['price'], one_bd_property_fall['price']))\n",
        "print('The t-test results are as follows:')\n",
        "print(stats.ttest_ind(one_bd_property_summer['price'], one_bd_property_fall['price']))\n",
        "print('\\n')\n",
        "print('This shows the winter and summer comparison for one bedroom.','\\n' , get_95_ci(one_bd_property_summer['price'], one_bd_property_winter['price']))\n",
        "print('The t-test results are as follows:')\n",
        "stats.ttest_ind(one_bd_property_summer['price'], one_bd_property_winter['price'])"
      ],
      "execution_count": null,
      "outputs": [
        {
          "output_type": "display_data",
          "data": {
            "image/png": "[encoded data removed]",
            "text/plain": [
              "<Figure size 1080x360 with 1 Axes>"
            ]
          },
          "metadata": {
            "tags": [],
            "needs_background": "light"
          }
        },
        {
          "output_type": "stream",
          "text": [
            "           price                                                     \n",
            "           count       mean        std   min   25%   50%   75%    max\n",
            "season                                                               \n",
            "fall    119677.0  78.845384  45.143240  10.0  53.0  70.0  91.0  999.0\n",
            "spring  148516.0  80.726393  44.029770  17.0  55.0  70.0  95.0  650.0\n",
            "summer  133483.0  79.979578  44.930040  10.0  54.0  70.0  95.0  650.0\n",
            "winter  126601.0  83.818098  48.655396  17.0  56.0  75.0  99.0  999.0\n",
            "\n",
            "\n"
          ],
          "name": "stdout"
        },
        {
          "output_type": "error",
          "ename": "NameError",
          "evalue": "ignored",
          "traceback": [
            "\u001b[0;31m---------------------------------------------------------------------------\u001b[0m",
            "\u001b[0;31mNameError\u001b[0m                                 Traceback (most recent call last)",
            "\u001b[0;32m<ipython-input-19-58d826388aef>\u001b[0m in \u001b[0;36m<module>\u001b[0;34m()\u001b[0m\n\u001b[1;32m     13\u001b[0m \u001b[0;34m\u001b[0m\u001b[0m\n\u001b[1;32m     14\u001b[0m \u001b[0mprint\u001b[0m\u001b[0;34m(\u001b[0m\u001b[0;34m'\\n'\u001b[0m\u001b[0;34m)\u001b[0m\u001b[0;34m\u001b[0m\u001b[0;34m\u001b[0m\u001b[0m\n\u001b[0;32m---> 15\u001b[0;31m \u001b[0mprint\u001b[0m\u001b[0;34m(\u001b[0m\u001b[0;34m'This shows the spring and summer comparison for one bedroom.'\u001b[0m\u001b[0;34m,\u001b[0m\u001b[0;34m'\\n'\u001b[0m \u001b[0;34m,\u001b[0m \u001b[0mget_95_ci\u001b[0m\u001b[0;34m(\u001b[0m\u001b[0mone_bd_property_spring\u001b[0m\u001b[0;34m[\u001b[0m\u001b[0;34m'price'\u001b[0m\u001b[0;34m]\u001b[0m\u001b[0;34m,\u001b[0m \u001b[0mone_bd_property_summer\u001b[0m\u001b[0;34m[\u001b[0m\u001b[0;34m'price'\u001b[0m\u001b[0;34m]\u001b[0m\u001b[0;34m)\u001b[0m\u001b[0;34m)\u001b[0m\u001b[0;34m\u001b[0m\u001b[0;34m\u001b[0m\u001b[0m\n\u001b[0m\u001b[1;32m     16\u001b[0m \u001b[0mprint\u001b[0m\u001b[0;34m(\u001b[0m\u001b[0;34m'The t-test results are as follows:'\u001b[0m\u001b[0;34m)\u001b[0m\u001b[0;34m\u001b[0m\u001b[0;34m\u001b[0m\u001b[0m\n\u001b[1;32m     17\u001b[0m \u001b[0mprint\u001b[0m\u001b[0;34m(\u001b[0m\u001b[0mstats\u001b[0m\u001b[0;34m.\u001b[0m\u001b[0mttest_ind\u001b[0m\u001b[0;34m(\u001b[0m\u001b[0mone_bd_property_spring\u001b[0m\u001b[0;34m[\u001b[0m\u001b[0;34m'price'\u001b[0m\u001b[0;34m]\u001b[0m\u001b[0;34m,\u001b[0m \u001b[0mone_bd_property_summer\u001b[0m\u001b[0;34m[\u001b[0m\u001b[0;34m'price'\u001b[0m\u001b[0;34m]\u001b[0m\u001b[0;34m)\u001b[0m\u001b[0;34m)\u001b[0m\u001b[0;34m\u001b[0m\u001b[0;34m\u001b[0m\u001b[0m\n",
            "\u001b[0;31mNameError\u001b[0m: name 'get_95_ci' is not defined"
          ]
        }
      ]
    },
    {
      "cell_type": "code",
      "metadata": {
        "id": "cJeYFS9JkY56",
        "outputId": "0eef4a71-0317-483e-9e4f-1b9a22dac81e",
        "colab": {
          "base_uri": "https://localhost:8080/",
          "height": 393
        }
      },
      "source": [
        "from scipy.stats import zscore\n",
        "\n",
        "z_scores = zscore(one_bd_property)\n",
        "for threshold in range(1,5):\n",
        "    print(\"The score threshold is: {}\".format(threshold))\n",
        "    print(\"The indices of the outliers:\")\n",
        "    print(np.where(z_scores > threshold))\n",
        "    print(\"Number of outliers is: {}\".format(len((np.where(z_scores > threshold)[0]))))\n",
        "\n",
        "\n"
      ],
      "execution_count": null,
      "outputs": [
        {
          "output_type": "error",
          "ename": "TypeError",
          "evalue": "ignored",
          "traceback": [
            "\u001b[0;31m---------------------------------------------------------------------------\u001b[0m",
            "\u001b[0;31mTypeError\u001b[0m                                 Traceback (most recent call last)",
            "\u001b[0;32m<ipython-input-20-a9769ebcbaf4>\u001b[0m in \u001b[0;36m<module>\u001b[0;34m()\u001b[0m\n\u001b[1;32m      1\u001b[0m \u001b[0;32mfrom\u001b[0m \u001b[0mscipy\u001b[0m\u001b[0;34m.\u001b[0m\u001b[0mstats\u001b[0m \u001b[0;32mimport\u001b[0m \u001b[0mzscore\u001b[0m\u001b[0;34m\u001b[0m\u001b[0;34m\u001b[0m\u001b[0m\n\u001b[1;32m      2\u001b[0m \u001b[0;34m\u001b[0m\u001b[0m\n\u001b[0;32m----> 3\u001b[0;31m \u001b[0mz_scores\u001b[0m \u001b[0;34m=\u001b[0m \u001b[0mzscore\u001b[0m\u001b[0;34m(\u001b[0m\u001b[0mone_bd_property\u001b[0m\u001b[0;34m)\u001b[0m\u001b[0;34m\u001b[0m\u001b[0;34m\u001b[0m\u001b[0m\n\u001b[0m\u001b[1;32m      4\u001b[0m \u001b[0;32mfor\u001b[0m \u001b[0mthreshold\u001b[0m \u001b[0;32min\u001b[0m \u001b[0mrange\u001b[0m\u001b[0;34m(\u001b[0m\u001b[0;36m1\u001b[0m\u001b[0;34m,\u001b[0m\u001b[0;36m5\u001b[0m\u001b[0;34m)\u001b[0m\u001b[0;34m:\u001b[0m\u001b[0;34m\u001b[0m\u001b[0;34m\u001b[0m\u001b[0m\n\u001b[1;32m      5\u001b[0m     \u001b[0mprint\u001b[0m\u001b[0;34m(\u001b[0m\u001b[0;34m\"The score threshold is: {}\"\u001b[0m\u001b[0;34m.\u001b[0m\u001b[0mformat\u001b[0m\u001b[0;34m(\u001b[0m\u001b[0mthreshold\u001b[0m\u001b[0;34m)\u001b[0m\u001b[0;34m)\u001b[0m\u001b[0;34m\u001b[0m\u001b[0;34m\u001b[0m\u001b[0m\n",
            "\u001b[0;32m/usr/local/lib/python3.6/dist-packages/scipy/stats/stats.py\u001b[0m in \u001b[0;36mzscore\u001b[0;34m(a, axis, ddof, nan_policy)\u001b[0m\n\u001b[1;32m   2414\u001b[0m         \u001b[0msstd\u001b[0m \u001b[0;34m=\u001b[0m \u001b[0mnp\u001b[0m\u001b[0;34m.\u001b[0m\u001b[0mnanstd\u001b[0m\u001b[0;34m(\u001b[0m\u001b[0ma\u001b[0m\u001b[0;34m=\u001b[0m\u001b[0ma\u001b[0m\u001b[0;34m,\u001b[0m \u001b[0maxis\u001b[0m\u001b[0;34m=\u001b[0m\u001b[0maxis\u001b[0m\u001b[0;34m,\u001b[0m \u001b[0mddof\u001b[0m\u001b[0;34m=\u001b[0m\u001b[0mddof\u001b[0m\u001b[0;34m,\u001b[0m \u001b[0mkeepdims\u001b[0m\u001b[0;34m=\u001b[0m\u001b[0;32mTrue\u001b[0m\u001b[0;34m)\u001b[0m\u001b[0;34m\u001b[0m\u001b[0;34m\u001b[0m\u001b[0m\n\u001b[1;32m   2415\u001b[0m     \u001b[0;32melse\u001b[0m\u001b[0;34m:\u001b[0m\u001b[0;34m\u001b[0m\u001b[0;34m\u001b[0m\u001b[0m\n\u001b[0;32m-> 2416\u001b[0;31m         \u001b[0mmns\u001b[0m \u001b[0;34m=\u001b[0m \u001b[0ma\u001b[0m\u001b[0;34m.\u001b[0m\u001b[0mmean\u001b[0m\u001b[0;34m(\u001b[0m\u001b[0maxis\u001b[0m\u001b[0;34m=\u001b[0m\u001b[0maxis\u001b[0m\u001b[0;34m,\u001b[0m \u001b[0mkeepdims\u001b[0m\u001b[0;34m=\u001b[0m\u001b[0;32mTrue\u001b[0m\u001b[0;34m)\u001b[0m\u001b[0;34m\u001b[0m\u001b[0;34m\u001b[0m\u001b[0m\n\u001b[0m\u001b[1;32m   2417\u001b[0m         \u001b[0msstd\u001b[0m \u001b[0;34m=\u001b[0m \u001b[0ma\u001b[0m\u001b[0;34m.\u001b[0m\u001b[0mstd\u001b[0m\u001b[0;34m(\u001b[0m\u001b[0maxis\u001b[0m\u001b[0;34m=\u001b[0m\u001b[0maxis\u001b[0m\u001b[0;34m,\u001b[0m \u001b[0mddof\u001b[0m\u001b[0;34m=\u001b[0m\u001b[0mddof\u001b[0m\u001b[0;34m,\u001b[0m \u001b[0mkeepdims\u001b[0m\u001b[0;34m=\u001b[0m\u001b[0;32mTrue\u001b[0m\u001b[0;34m)\u001b[0m\u001b[0;34m\u001b[0m\u001b[0;34m\u001b[0m\u001b[0m\n\u001b[1;32m   2418\u001b[0m \u001b[0;34m\u001b[0m\u001b[0m\n",
            "\u001b[0;32m/usr/local/lib/python3.6/dist-packages/numpy/core/_methods.py\u001b[0m in \u001b[0;36m_mean\u001b[0;34m(a, axis, dtype, out, keepdims)\u001b[0m\n\u001b[1;32m    149\u001b[0m             \u001b[0mis_float16_result\u001b[0m \u001b[0;34m=\u001b[0m \u001b[0;32mTrue\u001b[0m\u001b[0;34m\u001b[0m\u001b[0;34m\u001b[0m\u001b[0m\n\u001b[1;32m    150\u001b[0m \u001b[0;34m\u001b[0m\u001b[0m\n\u001b[0;32m--> 151\u001b[0;31m     \u001b[0mret\u001b[0m \u001b[0;34m=\u001b[0m \u001b[0mumr_sum\u001b[0m\u001b[0;34m(\u001b[0m\u001b[0marr\u001b[0m\u001b[0;34m,\u001b[0m \u001b[0maxis\u001b[0m\u001b[0;34m,\u001b[0m \u001b[0mdtype\u001b[0m\u001b[0;34m,\u001b[0m \u001b[0mout\u001b[0m\u001b[0;34m,\u001b[0m \u001b[0mkeepdims\u001b[0m\u001b[0;34m)\u001b[0m\u001b[0;34m\u001b[0m\u001b[0;34m\u001b[0m\u001b[0m\n\u001b[0m\u001b[1;32m    152\u001b[0m     \u001b[0;32mif\u001b[0m \u001b[0misinstance\u001b[0m\u001b[0;34m(\u001b[0m\u001b[0mret\u001b[0m\u001b[0;34m,\u001b[0m \u001b[0mmu\u001b[0m\u001b[0;34m.\u001b[0m\u001b[0mndarray\u001b[0m\u001b[0;34m)\u001b[0m\u001b[0;34m:\u001b[0m\u001b[0;34m\u001b[0m\u001b[0;34m\u001b[0m\u001b[0m\n\u001b[1;32m    153\u001b[0m         ret = um.true_divide(\n",
            "\u001b[0;31mTypeError\u001b[0m: must be str, not float"
          ]
        }
      ]
    },
    {
      "cell_type": "markdown",
      "metadata": {
        "id": "JCkJinYzKz4J"
      },
      "source": [
        "This will describe the information on the mean average price of a '3 or more bedroom' apartment/house to rent on average.\n",
        "---\n",
        "\n"
      ]
    },
    {
      "cell_type": "code",
      "metadata": {
        "id": "r5Ev9Ejr8ZN_",
        "outputId": "c6f22c9b-8ee2-444d-ceb9-0f3f81cf33ee",
        "colab": {
          "base_uri": "https://localhost:8080/",
          "height": 823
        }
      },
      "source": [
        "barplot_comparison(three_or_more_bd_property, \n",
        "                   'season',\n",
        "                   ['price'])\n",
        "\n",
        "three_or_more_bd_property_spring = three_or_more_bd_property[three_or_more_bd_property['season'] == 'spring']\n",
        "three_or_more_bd_property_summer = three_or_more_bd_property[three_or_more_bd_property['season'] == 'summer']\n",
        "three_or_more_bd_property_fall = three_or_more_bd_property[three_or_more_bd_property['season'] == 'fall']\n",
        "three_or_more_bd_property_winter = three_or_more_bd_property[three_or_more_bd_property['season'] == 'winter']\n",
        "\n",
        "\n",
        "print('\\n')\n",
        "print('This shows the spring and summer comparison for 3 or more bedrooms.','\\n' , get_95_ci(three_or_more_bd_property_spring['price'], three_or_more_bd_property_summer['price']))\n",
        "print('The t-test results are as follows:')\n",
        "print(stats.ttest_ind(three_or_more_bd_property_spring['price'], three_or_more_bd_property_summer['price']))\n",
        "print('\\n')\n",
        "print('This shows the fall and summer comparison for 3 or more bedrooms.','\\n' , get_95_ci(three_or_more_bd_property_summer['price'], three_or_more_bd_property_fall['price']))\n",
        "print('The t-test results are as follows:')\n",
        "print(stats.ttest_ind(three_or_more_bd_property_summer['price'], three_or_more_bd_property_fall['price']))\n",
        "print('\\n')\n",
        "print('This shows the winter and summer comparison for 3 or more bedrooms.','\\n' , get_95_ci(three_or_more_bd_property_summer['price'], three_or_more_bd_property_winter['price']))\n",
        "print('The t-test results are as follows:')\n",
        "stats.ttest_ind(three_or_more_bd_property_summer['price'], three_or_more_bd_property_winter['price'])"
      ],
      "execution_count": null,
      "outputs": [
        {
          "output_type": "display_data",
          "data": {
            "image/png": "[encoded data removed]",
            "text/plain": [
              "<Figure size 1080x360 with 1 Axes>"
            ]
          },
          "metadata": {
            "tags": [],
            "needs_background": "light"
          }
        },
        {
          "output_type": "stream",
          "text": [
            "          price                                                          \n",
            "          count        mean         std  min    25%    50%    75%     max\n",
            "season                                                                   \n",
            "fall    20636.0  209.439281  160.103703  9.0  115.0  165.0  260.0  2000.0\n",
            "spring  27407.0  227.322618  253.625684  9.0  119.0  172.0  260.0  3006.0\n",
            "summer  22939.0  216.424299  177.166327  9.0  117.0  170.0  270.0  2500.0\n",
            "winter  24705.0  227.843473  213.590910  9.0  120.0  180.0  260.0  3000.0\n",
            "\n",
            "\n",
            "This shows the spring and summer comparison for 3 or more bedrooms. \n",
            " The difference in means at the 95% confidence interval (two-tail) is between -14.676284449536531 and -7.120353712068997.\n",
            "The t-test results are as follows:\n",
            "Ttest_indResult(statistic=5.483903549638739, pvalue=4.180367617449808e-08)\n",
            "\n",
            "\n",
            "This shows the fall and summer comparison for 3 or more bedrooms. \n",
            " The difference in means at the 95% confidence interval (two-tail) is between -10.151786288243205 and -3.8182504317627606.\n",
            "The t-test results are as follows:\n",
            "Ttest_indResult(statistic=4.3002215292752695, pvalue=1.7099804633677907e-05)\n",
            "\n",
            "\n",
            "This shows the winter and summer comparison for 3 or more bedrooms. \n",
            " The difference in means at the 95% confidence interval (two-tail) is between 7.904836365638701 and 14.933511139940478.\n",
            "The t-test results are as follows:\n"
          ],
          "name": "stdout"
        },
        {
          "output_type": "execute_result",
          "data": {
            "text/plain": [
              "Ttest_indResult(statistic=-6.325165841167568, pvalue=2.551991421504419e-10)"
            ]
          },
          "metadata": {
            "tags": []
          },
          "execution_count": 20
        }
      ]
    },
    {
      "cell_type": "markdown",
      "metadata": {
        "id": "A3lNzU9SQ9pD"
      },
      "source": [
        "<h2>\n",
        "This is a bar graph further showing the visualization of vacancy throughout the year, so as to assess the busiest time of year to travel. \n",
        "<br>\n",
        "*   0 = Available dates total count\n",
        "<br>\n",
        "*   1 = Booked dates total count\n",
        "</h2>\n"
      ]
    },
    {
      "cell_type": "code",
      "metadata": {
        "id": "eaRwZTLPyAjo",
        "outputId": "73f1b828-269f-4c2f-ac27-9a36a86be553",
        "colab": {
          "base_uri": "https://localhost:8080/",
          "height": 492
        }
      },
      "source": [
        "g = sns.catplot(x=\"season\", col=\"vacancy\",\n",
        "                data=airbnb_copy, kind=\"count\",\n",
        "                height=6, aspect=1, legend=True)\n",
        "(g.set_axis_labels(\"Season\", \"Count\")\n",
        "  .despine(left=True))\n",
        "g.fig.suptitle('0 = Units Available    ~    1 = Booked Units', \n",
        "               y=1.05)"
      ],
      "execution_count": null,
      "outputs": [
        {
          "output_type": "execute_result",
          "data": {
            "text/plain": [
              "Text(0.5, 1.05, '0 = Units Available    ~    1 = Booked Units')"
            ]
          },
          "metadata": {
            "tags": []
          },
          "execution_count": 21
        },
        {
          "output_type": "display_data",
          "data": {
            "image/png": "[encoded data removed]",
            "text/plain": [
              "<Figure size 864x432 with 2 Axes>"
            ]
          },
          "metadata": {
            "tags": [],
            "needs_background": "light"
          }
        }
      ]
    },
    {
      "cell_type": "markdown",
      "metadata": {
        "id": "SDXvgMeFoGnJ"
      },
      "source": [
        "<h1> Conclusion </h1>\n",
        "\n",
        "\n",
        "Although there are multiple variables in this dataset, the focus will be strictly on 'entire home - 1 bedroom' and 'entire home - 3+ bedrooms'. \n",
        "This is the \"Entire Home\" category for summer and spring. After reviewing the data it would appear as though there is sufficient evidence to reject the null hypothesis because the p-values are as follows:\n",
        "*   This shows the spring and summer comparison for one bedroom is: 8.43e-06\n",
        "*   This shows the fall and summer comparison for one bedroom. 2.50e-10\n",
        "*   This shows the winter and summer comparison for one bedroom. 4.96e-97\n",
        "\n",
        "As for the '3 or more bedroom' column the p-values are as follows:\n",
        "*   This shows the spring and summer comparison for 4 or more bedrooms: 4.18e-08\n",
        "*   This shows the fall and summer comparison for 4 or more bedrooms: 1.70e-5\n",
        "*   This shows the winter and summer comparison for 4 or more bedrooms: 2.55e-10\n",
        "\n",
        "This means there is a significant difference in travel prices between spring and summer, summer and fall, and summer and winter, and summer is NOT the most expensive season to travel. As the data shows, in these categories the alternative hypothesis is true. The data shows that there is a positive skew of distribution, as there max value is above $8,000.\n",
        "\n",
        "The average price for a one bedroom is around 80 dollars, with the highest mean occuring during Spring. This means that the time of year when most people travel the most seems to be the Spring, and secondly winter. \n",
        "\n",
        "As for the '3 or more bedroom' group, the highest average mean pricing occurs in the Spring and Summer. \n",
        "\n",
        "If anyone wanted to travel to Berlin, the busiest time of year is Summer and Fall, and Spring is the 3rd busiest time. I would advise them to book their travel early if they plan on visiting in Fall, as this appears to have the least amount of available units on average. If they are booking only a one bedroom, then pricing is roughly similar year round with Winter having the highest average price overall, whereas 3 or more bedroom can fluxuate based on the season with Winter and Spring being the highest on average."
      ]
    }
  ]
}